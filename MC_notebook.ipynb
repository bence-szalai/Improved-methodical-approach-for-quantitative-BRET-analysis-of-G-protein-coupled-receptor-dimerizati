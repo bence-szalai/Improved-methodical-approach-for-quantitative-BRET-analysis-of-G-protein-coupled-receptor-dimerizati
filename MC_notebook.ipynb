{
 "cells": [
  {
   "cell_type": "code",
   "execution_count": 1,
   "metadata": {
    "collapsed": true,
    "deletable": true,
    "editable": true
   },
   "outputs": [],
   "source": [
    "import random"
   ]
  },
  {
   "cell_type": "markdown",
   "metadata": {
    "deletable": true,
    "editable": true
   },
   "source": [
    "Now we create the main classes of the simulation. Membrane() represents the membrane where the radnom walk of molecules take place, Position() is a position of this membrane and Receptor() is the GPCR we want to move."
   ]
  },
  {
   "cell_type": "code",
   "execution_count": 2,
   "metadata": {
    "collapsed": true,
    "deletable": true,
    "editable": true
   },
   "outputs": [],
   "source": [
    "class Membrane(object):\n",
    "    \"\"\" creates a membrane (width x height) of hexagons\"\"\"\n",
    "    def __init__(self, width, height):\n",
    "        self.width = width\n",
    "        self.height = height #must be even for correct coordinates!!!!\n",
    "        self.room = []\n",
    "        for x in range(self.width):\n",
    "            room_x=[]\n",
    "            for y in range(self.height):\n",
    "                room_x.append('-')\n",
    "            self.room.append(room_x)\n",
    "\n",
    "    def __str__(self):\n",
    "        for y in range(self.height-1, -1, -1):\n",
    "            if y%2 == 1:\n",
    "                print '  ',\n",
    "            for x in range(self.width):\n",
    "                if self.room[x][y] == '-':\n",
    "                    print ' ' ,self.room[x][y], ' ',\n",
    "                else:\n",
    "                    print ' ' ,self.room[x][y].a_or_d, ' ',\n",
    "            print ' '\n",
    "            print ' '\n",
    "        return ''\n",
    "\n",
    "    def getRandomPos(self):\n",
    "        \"\"\"returns a random position of the membrane\"\"\"\n",
    "        x = random.choice(range(self.width))\n",
    "        y = random.choice(range(self.height))\n",
    "        return Position(x,y)"
   ]
  },
  {
   "cell_type": "code",
   "execution_count": 3,
   "metadata": {
    "collapsed": true,
    "deletable": true,
    "editable": true
   },
   "outputs": [],
   "source": [
    "class Position(object):\n",
    "\n",
    "    def __init__(self,x,y):\n",
    "        self.x = x\n",
    "        self.y = y\n",
    "\n",
    "    def __str__(self):\n",
    "        return str(self.getX()) + ' ' + str(self.getY())\n",
    "    \n",
    "    def getX(self):\n",
    "        return self.x\n",
    "    \n",
    "    def getY(self):\n",
    "        return self.y\n",
    "\n",
    "    def convert_pos(self, membrane):\n",
    "        \"\"\" applys the concept of periodic boundry condition:\n",
    "        if the position is out of the membrane, creates a new position at the oposite side of membrane\"\"\"\n",
    "        if self.x<0:\n",
    "            self.x = self.x + membrane.width\n",
    "        if self.x>membrane.width-1:\n",
    "            self.x = self.x - membrane.width\n",
    "        if self.y<0:\n",
    "            self.y = self.y + membrane.height\n",
    "        if self.y>membrane.height-1:\n",
    "            self.y = self.y - membrane.height\n",
    "\n",
    "    def get_neighbour_pos(self, membrane):\n",
    "        \"\"\" returns the coordinates of the neighbourous positions as a list\"\"\"\n",
    "        neighbour_pos = []\n",
    "        if self.getY()%2 == 0:\n",
    "            for i in [(0,1),(1,0),(0,-1),(-1,-1),(-1,0),(-1,1)]:\n",
    "                x = self.getX() + i[0]\n",
    "                y = self.getY() + i[1]\n",
    "                new_pos = Position(x,y)\n",
    "                new_pos.convert_pos(membrane)\n",
    "                neighbour_pos.append(new_pos)\n",
    "        else:\n",
    "            for i in [(1,1),(1,0),(1,-1),(0,-1),(-1,0),(0,1)]:\n",
    "                x = self.getX() + i[0]\n",
    "                y = self.getY() + i[1]\n",
    "                new_pos = Position(x,y)\n",
    "                new_pos.convert_pos(membrane)\n",
    "                neighbour_pos.append(new_pos)\n",
    "        return neighbour_pos\n",
    "\n",
    "    def are_neighbours(self, pos, membrane):\n",
    "        \"\"\" returns True if the two positions are neighbours, else return False\"\"\"\n",
    "        pos_list = self.get_neighbour_pos(membrane)\n",
    "        for i in pos_list:\n",
    "            if i.getX() == pos.getX() and i.getY() == pos.getY():\n",
    "                return True\n",
    "        else:\n",
    "            return False"
   ]
  },
  {
   "cell_type": "code",
   "execution_count": 9,
   "metadata": {
    "collapsed": true,
    "deletable": true,
    "editable": true
   },
   "outputs": [],
   "source": [
    "class Receptor(object):\n",
    "    \"\"\" creates a receptor, in a membrane. The receptor can be 'D'(onor) or 'A'(cceptor)\n",
    "    paon, pdon, paoff, pdoff represents the probability of dimerization (on) or\n",
    "    monomeization (off) with an acceptor (a) or donor(d). Donor receptors have\n",
    "    an rluc luminsecence (rluc) and yfp luminescence vaue. Receptor is positioned\n",
    "    into a random, not occupied hexa of the membrane\"\"\"\n",
    "    def __init__(self, membrane, a_or_d, paon, pdon, paoff, pdoff):\n",
    "        self.membrane = membrane\n",
    "        self.a_or_d = a_or_d\n",
    "        self.paon = paon\n",
    "        self.pdon = pdon\n",
    "        self.paoff = paoff\n",
    "        self.pdoff = pdoff\n",
    "        self.dimer = '-'\n",
    "        self.has_moved = False                  #hasn't moved in this iteration\n",
    "        self.has_changed_dimer_status = False   #hasn't changed dimer status in this iteration\n",
    "        if self.a_or_d == 'D':\n",
    "            self.rluc = 1.0\n",
    "            self.yfp = 0.0\n",
    "            self.bret = self.yfp / self.rluc\n",
    "        occupied = True\n",
    "        while occupied:\n",
    "            self.pos = self.membrane.getRandomPos()\n",
    "            if self.membrane.room[self.pos.getX()][self.pos.getY()] == '-':\n",
    "                occupied = False\n",
    "        self.membrane.room[self.pos.getX()][self.pos.getY()] = self\n",
    "\n",
    "    def get_free_neighbour_pos(self):\n",
    "        \"\"\"returns a free neighbour position in a list\"\"\"\n",
    "        neighbour_pos = self.pos.get_neighbour_pos(self.membrane)\n",
    "        free_neighbour_pos = []\n",
    "        for i in neighbour_pos:\n",
    "            if self.membrane.room[i.getX()][i.getY()] == '-':\n",
    "                free_neighbour_pos.append(i)\n",
    "        return free_neighbour_pos\n",
    "\n",
    "    def get_neighbours(self):\n",
    "        \"\"\"return the neighbouring receptors in a list\"\"\"\n",
    "        neighbour_pos = self.pos.get_neighbour_pos(self.membrane)\n",
    "        neighbours = []\n",
    "        for i in neighbour_pos:\n",
    "            if self.membrane.room[i.getX()][i.getY()] != '-':\n",
    "                neighbours.append(self.membrane.room[i.getX()][i.getY()])\n",
    "        return neighbours\n",
    "    \n",
    "    def get_free_neighbour_pos_dimer(self):\n",
    "        \"\"\"return the free neighbouring positions of a dimer\"\"\"\n",
    "        neighbour_pos_self = self.pos.get_neighbour_pos(self.membrane)\n",
    "        neighbour_pos_pair = self.dimer.pos.get_neighbour_pos(self.dimer.membrane)\n",
    "        free_neighbour_pos = []\n",
    "        for i in neighbour_pos_self:\n",
    "            if self.membrane.room[i.getX()][i.getY()] == '-' or self.membrane.room[i.getX()][i.getY()] == self.dimer:\n",
    "                for j in neighbour_pos_pair:\n",
    "                    if self.dimer.membrane.room[j.getX()][j.getY()] == '-' or self.dimer.membrane.room[j.getX()][j.getY()] == self:\n",
    "                        if i.are_neighbours(j,self.membrane):\n",
    "                            free_neighbour_pos.append([i,j])                  \n",
    "        return free_neighbour_pos\n",
    "                                                                         \n",
    "    def move(self):\n",
    "        if self.has_moved == False:\n",
    "            if self.dimer == '-':\n",
    "                free_neighbour_pos=self.get_free_neighbour_pos()\n",
    "                self.membrane.room[self.pos.getX()][self.pos.getY()] = '-'\n",
    "                if len(free_neighbour_pos)>0:\n",
    "                    self.pos=random.choice(free_neighbour_pos)\n",
    "                self.membrane.room[self.pos.getX()][self.pos.getY()] = self\n",
    "                self.has_moved = True\n",
    "            elif self.dimer.has_moved == False:\n",
    "                free_neighbour_pos = self.get_free_neighbour_pos_dimer()\n",
    "                self.membrane.room[self.pos.getX()][self.pos.getY()] = '-'\n",
    "                self.dimer.membrane.room[self.dimer.pos.getX()][self.dimer.pos.getY()] = '-'\n",
    "                if len(free_neighbour_pos)>0:\n",
    "                    new_pos = random.choice(free_neighbour_pos)\n",
    "                    self.pos = new_pos[0]\n",
    "                    self.dimer.pos = new_pos[1]\n",
    "                self.membrane.room[self.pos.getX()][self.pos.getY()] = self\n",
    "                self.dimer.membrane.room[self.dimer.pos.getX()][self.dimer.pos.getY()] = self.dimer\n",
    "                self.has_moved = True\n",
    "                self.dimer.has_moved = True\n",
    "\n",
    "    def change_dimer_status(self):\n",
    "        if self.has_changed_dimer_status == False:\n",
    "            if self.dimer == '-':\n",
    "                neighbours = self.get_neighbours()\n",
    "                for i in neighbours:\n",
    "                    if i.has_changed_dimer_status == False:\n",
    "                        x = random.random()\n",
    "                        if i.a_or_d == 'A':\n",
    "                            p=self.paon\n",
    "                        if i.a_or_d == 'D':\n",
    "                            p=self.pdon\n",
    "                        if x<p:\n",
    "                            self.dimer = i\n",
    "                            self.dimer.dimer = self\n",
    "                            self.has_changed_dimer_status = True\n",
    "                            self.dimer.has_changed_dimer_status = True\n",
    "                            break\n",
    "            else:\n",
    "                if self.dimer.has_changed_dimer_status == False:\n",
    "                    x=random.random()\n",
    "                    if self.dimer.a_or_d == 'A':\n",
    "                        p=self.paoff\n",
    "                    if self.dimer.a_or_d == 'D':\n",
    "                        p=self.pdoff\n",
    "                    if x<p:\n",
    "                        self.has_changed_dimer_status = True\n",
    "                        self.dimer.has_changed_dimer_status = True\n",
    "                        self.dimer.dimer = '-'\n",
    "                        self.dimer = '-'\n",
    "\n",
    "    def get_bret(self):\n",
    "        if self.a_or_d == 'D':\n",
    "            self.rluc = 1.0\n",
    "            self.yfp = 0.4\n",
    "            neighbours = self.get_neighbours()\n",
    "            for i in neighbours:\n",
    "                if i.a_or_d == 'A':\n",
    "                    self.yfp = self.yfp + 0.2\n",
    "                    self.rluc = self.rluc - 0.05\n",
    "            self.bret=self.yfp/self.rluc         "
   ]
  },
  {
   "cell_type": "code",
   "execution_count": 10,
   "metadata": {
    "collapsed": true,
    "deletable": true,
    "editable": true
   },
   "outputs": [],
   "source": [
    "def calculate_bret(rlist):\n",
    "    bret = 0\n",
    "    d = 0\n",
    "    for i in rlist:\n",
    "        i.get_bret()\n",
    "    for i in rlist:\n",
    "        if i.a_or_d == 'D':\n",
    "            bret+=i.bret\n",
    "            d+=1\n",
    "    return bret/d"
   ]
  },
  {
   "cell_type": "markdown",
   "metadata": {
    "deletable": true,
    "editable": true
   },
   "source": [
    "Now let's have some Graphical demo of what our script does. It creates a small membrane with 1 donor and 1 acceptor, and moves them with each ENTER. One can quit with 's' key. A(cceptor) and D(onor) have in this demo p_dimerize==1, so when they get into neighbouring places, they will stay together. Also important, that our Membrane() has periodic boundry conditions, so when something \"leaves\" at the right / top side, it comes back left / bottom, respecrtively."
   ]
  },
  {
   "cell_type": "code",
   "execution_count": 11,
   "metadata": {
    "collapsed": true,
    "deletable": true,
    "editable": true
   },
   "outputs": [],
   "source": [
    "def graphics_demo():\n",
    "    \"\"\" graphical demo with one donor and one acceptor, with pdimerization=1.0\n",
    "    ends with 's' key\"\"\"\n",
    "    mem = Membrane(6,6)\n",
    "    rlist = []\n",
    "    print mem\n",
    "    for i in range(1):\n",
    "        rlist.append(Receptor(mem,'A',0.0,1.0,0.0,0.0))\n",
    "        rlist.append(Receptor(mem,'D',1.0,0.0,0.0,0.0))\n",
    "    print mem\n",
    "    while raw_input()!='s':\n",
    "        print mem\n",
    "        for i in rlist:\n",
    "            i.has_moved=False\n",
    "            i.has_changed_dimer_status=False\n",
    "        for i in rlist:\n",
    "            i.move()\n",
    "        for i in rlist:\n",
    "            i.change_dimer_status()"
   ]
  },
  {
   "cell_type": "code",
   "execution_count": 7,
   "metadata": {
    "collapsed": false,
    "deletable": true,
    "editable": true
   },
   "outputs": [
    {
     "name": "stdout",
     "output_type": "stream",
     "text": [
      "     -     -     -     -     -     -    \n",
      " \n",
      "  -     -     -     -     -     -    \n",
      " \n",
      "     -     -     -     -     -     -    \n",
      " \n",
      "  -     -     -     -     -     -    \n",
      " \n",
      "     -     -     -     -     -     -    \n",
      " \n",
      "  -     -     -     -     -     -    \n",
      " \n",
      "\n",
      "     -     -     -     -     -     -    \n",
      " \n",
      "  -     D     -     -     -     -    \n",
      " \n",
      "     -     -     -     -     -     A    \n",
      " \n",
      "  -     -     -     -     -     -    \n",
      " \n",
      "     -     -     -     -     -     -    \n",
      " \n",
      "  -     -     -     -     -     -    \n",
      " \n",
      "\n",
      "s\n"
     ]
    }
   ],
   "source": [
    "graphics_demo()"
   ]
  },
  {
   "cell_type": "markdown",
   "metadata": {
    "deletable": true,
    "editable": true
   },
   "source": [
    "Now do our simulation with d donor, a acceptor, pddon donor-donor association probability, pddoff donor-donor dissociation probabilty, pdaoon donor-acceptor association probability, pdaoff donor-acceptoy dissociation probability, paaon acceptor-acceptor assocaiation and paaoff acceptor-acceptor dissociation probability. Our Membrane is 100x100 hexagons. In our first simulation nothing dimerises (all probabilities are 0)."
   ]
  },
  {
   "cell_type": "code",
   "execution_count": 6,
   "metadata": {
    "collapsed": true,
    "deletable": true,
    "editable": true
   },
   "outputs": [],
   "source": [
    "d,a,pddon,pddoff,pdaon,pdaoff,paaon,paaoff = [100,100,0.0,0.0,0.0,0.0,0.0,0.0]"
   ]
  },
  {
   "cell_type": "code",
   "execution_count": 12,
   "metadata": {
    "collapsed": true,
    "deletable": true,
    "editable": true
   },
   "outputs": [],
   "source": [
    "def simulate(d,a,pddon,pddoff,pdaon,pdaoff,paaon,paaoff):\n",
    "    \"\"\" d: number of donors\n",
    "        a: number of acceptors\n",
    "        pddon: donor-donor association probability\n",
    "        pddoff: donor-donor dissociation probability\n",
    "        pdaon: donor-acceptor association probability\n",
    "        pdaoff: donor-acceptor dissociation probability\n",
    "        paaon: acceptor-acceptor association probability\n",
    "        paaoff: acceptor-acceptor dissociation probability\n",
    "        \n",
    "        performs simulation for 1000 iterations, returns bret\"\"\"\n",
    "    \n",
    "    mem = Membrane(100,100)\n",
    "    rlist = []\n",
    "    for j in range(d):\n",
    "        rlist.append(Receptor(mem, 'D', pdaon, pddon, pdaoff, pddoff))\n",
    "    for j in range(a):\n",
    "        rlist.append(Receptor(mem, 'A', paaon, pdaon, paaoff, pdaoff))\n",
    "    for j in range(1000):\n",
    "        for k in rlist:\n",
    "            k.has_moved = False\n",
    "            k.has_changed_dimer_status = False\n",
    "        for k in rlist:\n",
    "            k.move()\n",
    "        for k in rlist:\n",
    "            k.change_dimer_status()\n",
    "    return calculate_bret(rlist)   "
   ]
  },
  {
   "cell_type": "code",
   "execution_count": 13,
   "metadata": {
    "collapsed": false,
    "deletable": true,
    "editable": true
   },
   "outputs": [],
   "source": [
    "bret=simulate(d,a,pddon,pddoff,pdaon,pdaoff,paaon,paaoff)"
   ]
  },
  {
   "cell_type": "code",
   "execution_count": 11,
   "metadata": {
    "collapsed": false,
    "deletable": true,
    "editable": true
   },
   "outputs": [
    {
     "data": {
      "text/plain": [
       "0.4118362573099408"
      ]
     },
     "execution_count": 11,
     "metadata": {},
     "output_type": "execute_result"
    }
   ],
   "source": [
    "bret"
   ]
  },
  {
   "cell_type": "markdown",
   "metadata": {
    "deletable": true,
    "editable": true
   },
   "source": [
    "Let us make some simulation where number of donors is either 100 or 500, and acceptor is 100, 200, 500 and 1000. There is still no dimerization."
   ]
  },
  {
   "cell_type": "code",
   "execution_count": 22,
   "metadata": {
    "collapsed": true,
    "deletable": true,
    "editable": true
   },
   "outputs": [],
   "source": [
    "bret_donor100=[]\n",
    "bret_donor500=[]\n",
    "for a in [100,200,500,1000]:\n",
    "    bret_donor100.append(simulate(100,a,pddon,pddoff,pdaon,pdaoff,paaon,paaoff))\n",
    "    bret_donor500.append(simulate(500,a,pddon,pddoff,pdaon,pdaoff,paaon,paaoff))"
   ]
  },
  {
   "cell_type": "markdown",
   "metadata": {
    "deletable": true,
    "editable": true
   },
   "source": [
    "Let's make some plot: X axis is number of acceptors, Y axis is the calculated BRET. The color of the points is the dependent on the number of donors (100 or 500). The calculated BRET is 0.4 at baseline, so we will plot BRET-0.4 (it is common in BRET experiments, that the baseline signal is non 0). As we did not had dimerization in this simulation setup, we wait a lineal relationship between acceptor and BRET, and no effect of donor number."
   ]
  },
  {
   "cell_type": "code",
   "execution_count": 23,
   "metadata": {
    "collapsed": true
   },
   "outputs": [],
   "source": [
    "bret_donor100=list(np.array(bret_donor100)-0.4)\n",
    "bret_donor500=list(np.array(bret_donor500)-0.4)"
   ]
  },
  {
   "cell_type": "code",
   "execution_count": 25,
   "metadata": {
    "collapsed": false,
    "deletable": true,
    "editable": true
   },
   "outputs": [
    {
     "data": {
      "image/png": "[encoded data removed]",
      "text/plain": [
       "<matplotlib.figure.Figure at 0x1068d6cd0>"
      ]
     },
     "metadata": {},
     "output_type": "display_data"
    }
   ],
   "source": [
    "from matplotlib import pyplot as plt\n",
    "import numpy as np\n",
    "plt.plot([100,200,500,1000],bret_donor100,'o')\n",
    "plt.plot([100,200,500,1000],bret_donor500,'o')\n",
    "plt.xlabel('# of acceptor molecules')\n",
    "plt.ylabel('Simulated BRET ratio')\n",
    "plt.legend(['Donor 100','Donor 500'])\n",
    "plt.ylim(0,0.35)\n",
    "plt.show()"
   ]
  },
  {
   "cell_type": "markdown",
   "metadata": {},
   "source": [
    "We can also plot the BRET ratio as a function of acceptor / donor ratio."
   ]
  },
  {
   "cell_type": "code",
   "execution_count": 26,
   "metadata": {
    "collapsed": false
   },
   "outputs": [
    {
     "data": {
      "image/png": "[encoded data removed]",
      "text/plain": [
       "<matplotlib.figure.Figure at 0x106b11810>"
      ]
     },
     "metadata": {},
     "output_type": "display_data"
    }
   ],
   "source": [
    "plt.plot(np.array([100,200,500,1000])/100,bret_donor100,'o')\n",
    "plt.plot(np.array([100,200,500,1000])/500,bret_donor500,'o')\n",
    "plt.legend(['Donor 100','Donor 500'])\n",
    "plt.xlabel('Acceptor / Donor ratio')\n",
    "plt.ylabel('Simulated BRET ratio')\n",
    "plt.ylim(0,0.35)\n",
    "plt.show()"
   ]
  },
  {
   "cell_type": "markdown",
   "metadata": {
    "deletable": true,
    "editable": true
   },
   "source": [
    "If donor and acceptor can dimerize (pdaon=1.0 and pdaoff=0.0, meaning when they dimerize, they remain together), and run the simulation again, we get curve similar to the \"specific interaction\" from the manuscript. (this simulation is rather slow)"
   ]
  },
  {
   "cell_type": "code",
   "execution_count": 27,
   "metadata": {
    "collapsed": false,
    "deletable": true,
    "editable": true
   },
   "outputs": [],
   "source": [
    "pddon,pddoff,pdaon,pdaoff,paaon,paaoff = [0.0,0.0,1.0,0.0,0.0,0.0]\n",
    "bret_donor100=[]\n",
    "bret_donor500=[]\n",
    "for a in [100,200,500,1000]:\n",
    "    bret_donor100.append(simulate(100,a,pddon,pddoff,pdaon,pdaoff,paaon,paaoff))\n",
    "    bret_donor500.append(simulate(500,a,pddon,pddoff,pdaon,pdaoff,paaon,paaoff))"
   ]
  },
  {
   "cell_type": "code",
   "execution_count": 28,
   "metadata": {
    "collapsed": true
   },
   "outputs": [],
   "source": [
    "bret_donor100=list(np.array(bret_donor100)-0.4)\n",
    "bret_donor500=list(np.array(bret_donor500)-0.4)"
   ]
  },
  {
   "cell_type": "code",
   "execution_count": 31,
   "metadata": {
    "collapsed": false,
    "deletable": true,
    "editable": true
   },
   "outputs": [
    {
     "data": {
      "image/png": "[encoded data removed]",
      "text/plain": [
       "<matplotlib.figure.Figure at 0x106479250>"
      ]
     },
     "metadata": {},
     "output_type": "display_data"
    }
   ],
   "source": [
    "plt.plot([100,200,500,1000],bret_donor100,'o')\n",
    "plt.plot([100,200,500,1000],bret_donor500,'o')\n",
    "plt.legend(['Donor 100','Donor 500'])\n",
    "plt.ylabel('Simulated BRET ratio')\n",
    "plt.xlabel('# of acceptor molecules')\n",
    "plt.legend(['Donor 100','Donor 500'])\n",
    "plt.ylim(0,0.35)\n",
    "plt.show()"
   ]
  },
  {
   "cell_type": "code",
   "execution_count": 32,
   "metadata": {
    "collapsed": false
   },
   "outputs": [
    {
     "data": {
      "image/png": "[encoded data removed]",
      "text/plain": [
       "<matplotlib.figure.Figure at 0x1065c7090>"
      ]
     },
     "metadata": {},
     "output_type": "display_data"
    }
   ],
   "source": [
    "plt.plot(np.array([100,200,500,1000])/100,bret_donor100,'o')\n",
    "plt.plot(np.array([100,200,500,1000])/500,bret_donor500,'o')\n",
    "plt.legend(['Donor 100','Donor 500'])\n",
    "plt.xlabel('Acceptor / Donor ratio')\n",
    "plt.ylabel('Simulated BRET ratio')\n",
    "plt.ylim(0,0.35)\n",
    "plt.show()"
   ]
  },
  {
   "cell_type": "code",
   "execution_count": 33,
   "metadata": {
    "collapsed": true
   },
   "outputs": [],
   "source": [
    "bret_specific=[]\n",
    "bret_nonspecific=[]\n",
    "for a in [100,200,500,700,900]:\n",
    "    pddon,pddoff,pdaon,pdaoff,paaon,paaoff = [0.0,0.0,1.0,0.0,0.0,0.0]\n",
    "    bret_specific.append(simulate(1000-a,a,pddon,pddoff,pdaon,pdaoff,paaon,paaoff))\n",
    "    pddon,pddoff,pdaon,pdaoff,paaon,paaoff = [0.0,0.0,0.0,0.0,0.0,0.0]\n",
    "    bret_nonspecific.append(simulate(1000-a,a,pddon,pddoff,pdaon,pdaoff,paaon,paaoff))"
   ]
  },
  {
   "cell_type": "code",
   "execution_count": 39,
   "metadata": {
    "collapsed": true
   },
   "outputs": [],
   "source": [
    "bret_specific=list(np.array(bret_specific)-0.4)\n",
    "bret_nonspecific=list(np.array(bret_nonspecific)-0.4)"
   ]
  },
  {
   "cell_type": "code",
   "execution_count": 41,
   "metadata": {
    "collapsed": false
   },
   "outputs": [
    {
     "data": {
      "image/png": "[encoded data removed]",
      "text/plain": [
       "<matplotlib.figure.Figure at 0x1048ef2d0>"
      ]
     },
     "metadata": {},
     "output_type": "display_data"
    }
   ],
   "source": [
    "plt.plot(np.array([100.0,200.0,500.0,700.0,900.0])/np.array([900,700,500,200,100]),bret_nonspecific,'o')\n",
    "plt.plot(np.array([100.0,200.0,500.0,700.0,900.0])/np.array([900,700,500,200,100]),bret_specific,'o')\n",
    "plt.legend(['Non specific','Specific'])\n",
    "plt.xlabel('Acceptor / Donor ratio')\n",
    "plt.ylabel('Simulated BRET ratio')\n",
    "plt.ylim(0,0.35)\n",
    "plt.show()"
   ]
  },
  {
   "cell_type": "code",
   "execution_count": null,
   "metadata": {
    "collapsed": true
   },
   "outputs": [],
   "source": []
  }
 ],
 "metadata": {
  "kernelspec": {
   "display_name": "Python 2",
   "language": "python",
   "name": "python2"
  },
  "language_info": {
   "codemirror_mode": {
    "name": "ipython",
    "version": 2
   },
   "file_extension": ".py",
   "mimetype": "text/x-python",
   "name": "python",
   "nbconvert_exporter": "python",
   "pygments_lexer": "ipython2",
   "version": "2.7.13"
  }
 },
 "nbformat": 4,
 "nbformat_minor": 2
}
